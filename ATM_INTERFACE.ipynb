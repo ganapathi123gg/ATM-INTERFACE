{
  "nbformat": 4,
  "nbformat_minor": 0,
  "metadata": {
    "colab": {
      "provenance": [],
      "authorship_tag": "ABX9TyMSLdRXKtcy2Pz7C2RxpvQj",
      "include_colab_link": true
    },
    "kernelspec": {
      "name": "python3",
      "display_name": "Python 3"
    },
    "language_info": {
      "name": "python"
    }
  },
  "cells": [
    {
      "cell_type": "markdown",
      "metadata": {
        "id": "view-in-github",
        "colab_type": "text"
      },
      "source": [
        "<a href=\"https://colab.research.google.com/github/ganapathi123gg/ATM-INTERFACE/blob/main/ATM_INTERFACE.ipynb\" target=\"_parent\"><img src=\"https://colab.research.google.com/assets/colab-badge.svg\" alt=\"Open In Colab\"/></a>"
      ]
    },
    {
      "cell_type": "code",
      "source": [
        "class User:\n",
        "    def __init__(self, user_id, pin):\n",
        "        self.user_id = user_id\n",
        "        self.pin = pin\n",
        "        self.balance = 0\n",
        "        self.transaction_history = []\n",
        "\n",
        "    def deposit(self, amount):\n",
        "        self.balance += amount\n",
        "        self.transaction_history.append(f\"Deposited ${amount}\")\n",
        "\n",
        "    def withdraw(self, amount):\n",
        "        if self.balance >= amount:\n",
        "            self.balance -= amount\n",
        "            self.transaction_history.append(f\"Withdrew ${amount}\")\n",
        "        else:\n",
        "            print(\"Insufficient balance!\")\n",
        "\n",
        "    def transfer(self, amount, recipient):\n",
        "        if self.balance >= amount:\n",
        "            self.balance -= amount\n",
        "            recipient.balance += amount\n",
        "            self.transaction_history.append(f\"Transferred ${amount} to User ID: {recipient.user_id}\")\n",
        "        else:\n",
        "            print(\"Insufficient balance!\")\n",
        "\n",
        "    def print_transaction_history(self):\n",
        "        print(\"Transaction History for User ID:\", self.user_id)\n",
        "        for transaction in self.transaction_history:\n",
        "            print(transaction)\n",
        "\n",
        "class ATM:\n",
        "    def __init__(self):\n",
        "        self.users = {}\n",
        "\n",
        "    def add_user(self, user_id, pin):\n",
        "        self.users[user_id] = User(user_id, pin)\n",
        "\n",
        "    def authenticate_user(self, user_id, pin):\n",
        "        if user_id in self.users:\n",
        "            if self.users[user_id].pin == pin:\n",
        "                return True\n",
        "        return False\n",
        "\n",
        "    def start(self):\n",
        "        user_id = input(\"Enter User ID: \")\n",
        "        pin = input(\"Enter PIN: \")\n",
        "\n",
        "        if self.authenticate_user(user_id, pin):\n",
        "            print(\"Authentication successful!\")\n",
        "            user = self.users[user_id]\n",
        "            while True:\n",
        "                print(\"\\nChoose an option:\")\n",
        "                print(\"1. Transactions History\")\n",
        "                print(\"2. Withdraw\")\n",
        "                print(\"3. Deposit\")\n",
        "                print(\"4. Transfer\")\n",
        "                print(\"5. Quit\")\n",
        "                choice = input(\"Enter your choice: \")\n",
        "\n",
        "                if choice == '1':\n",
        "                    user.print_transaction_history()\n",
        "                elif choice == '2':\n",
        "                    amount = float(input(\"Enter amount to withdraw: \"))\n",
        "                    user.withdraw(amount)\n",
        "                elif choice == '3':\n",
        "                    amount = float(input(\"Enter amount to deposit: \"))\n",
        "                    user.deposit(amount)\n",
        "                elif choice == '4':\n",
        "                    recipient_id = input(\"Enter recipient's User ID: \")\n",
        "                    amount = float(input(\"Enter amount to transfer: \"))\n",
        "                    if recipient_id in self.users:\n",
        "                        recipient = self.users[recipient_id]\n",
        "                        user.transfer(amount, recipient)\n",
        "                    else:\n",
        "                        print(\"Recipient not found!\")\n",
        "                elif choice == '5':\n",
        "                    print(\"Thank you for using the ATM!\")\n",
        "                    break\n",
        "                else:\n",
        "                    print(\"Invalid choice! Please try again.\")\n",
        "        else:\n",
        "            print(\"Invalid User ID or PIN.\")\n",
        "\n",
        "\n",
        "if __name__ == \"__main__\":\n",
        "    atm = ATM()\n",
        "    atm.add_user(\"ganapathi\", \"1234\")\n",
        "    atm.add_user(\"phanendra\", \"5678\")\n",
        "    atm.add_user(\"sekher\", \"1431\")\n",
        "    atm.add_user(\"tejesh\", \"1234\")\n",
        "    atm.add_user(\"sanjay\", \"5678\")\n",
        "    atm.add_user(\"teja\", \"1431\")\n",
        "    atm.add_user(\"laxman\", \"1234\")\n",
        "    atm.add_user(\"sandeep\", \"5678\")\n",
        "    atm.add_user(\"rohit\", \"1431\")\n",
        "    atm.start()\n"
      ],
      "metadata": {
        "colab": {
          "base_uri": "https://localhost:8080/",
          "height": 321
        },
        "id": "s-WxqJ7-sjsf",
        "outputId": "23773ade-cf67-4f01-f5e9-556dfe63c9e4"
      },
      "execution_count": 6,
      "outputs": [
        {
          "output_type": "error",
          "ename": "KeyboardInterrupt",
          "evalue": "Interrupted by user",
          "traceback": [
            "\u001b[0;31m---------------------------------------------------------------------------\u001b[0m",
            "\u001b[0;31mKeyboardInterrupt\u001b[0m                         Traceback (most recent call last)",
            "\u001b[0;32m<ipython-input-6-a3ff32d60639>\u001b[0m in \u001b[0;36m<cell line: 86>\u001b[0;34m()\u001b[0m\n\u001b[1;32m     95\u001b[0m     \u001b[0matm\u001b[0m\u001b[0;34m.\u001b[0m\u001b[0madd_user\u001b[0m\u001b[0;34m(\u001b[0m\u001b[0;34m\"sandeep\"\u001b[0m\u001b[0;34m,\u001b[0m \u001b[0;34m\"5678\"\u001b[0m\u001b[0;34m)\u001b[0m\u001b[0;34m\u001b[0m\u001b[0;34m\u001b[0m\u001b[0m\n\u001b[1;32m     96\u001b[0m     \u001b[0matm\u001b[0m\u001b[0;34m.\u001b[0m\u001b[0madd_user\u001b[0m\u001b[0;34m(\u001b[0m\u001b[0;34m\"rohit\"\u001b[0m\u001b[0;34m,\u001b[0m \u001b[0;34m\"1431\"\u001b[0m\u001b[0;34m)\u001b[0m\u001b[0;34m\u001b[0m\u001b[0;34m\u001b[0m\u001b[0m\n\u001b[0;32m---> 97\u001b[0;31m     \u001b[0matm\u001b[0m\u001b[0;34m.\u001b[0m\u001b[0mstart\u001b[0m\u001b[0;34m(\u001b[0m\u001b[0;34m)\u001b[0m\u001b[0;34m\u001b[0m\u001b[0;34m\u001b[0m\u001b[0m\n\u001b[0m",
            "\u001b[0;32m<ipython-input-6-a3ff32d60639>\u001b[0m in \u001b[0;36mstart\u001b[0;34m(self)\u001b[0m\n\u001b[1;32m     44\u001b[0m \u001b[0;34m\u001b[0m\u001b[0m\n\u001b[1;32m     45\u001b[0m     \u001b[0;32mdef\u001b[0m \u001b[0mstart\u001b[0m\u001b[0;34m(\u001b[0m\u001b[0mself\u001b[0m\u001b[0;34m)\u001b[0m\u001b[0;34m:\u001b[0m\u001b[0;34m\u001b[0m\u001b[0;34m\u001b[0m\u001b[0m\n\u001b[0;32m---> 46\u001b[0;31m         \u001b[0muser_id\u001b[0m \u001b[0;34m=\u001b[0m \u001b[0minput\u001b[0m\u001b[0;34m(\u001b[0m\u001b[0;34m\"Enter User ID: \"\u001b[0m\u001b[0;34m)\u001b[0m\u001b[0;34m\u001b[0m\u001b[0;34m\u001b[0m\u001b[0m\n\u001b[0m\u001b[1;32m     47\u001b[0m         \u001b[0mpin\u001b[0m \u001b[0;34m=\u001b[0m \u001b[0minput\u001b[0m\u001b[0;34m(\u001b[0m\u001b[0;34m\"Enter PIN: \"\u001b[0m\u001b[0;34m)\u001b[0m\u001b[0;34m\u001b[0m\u001b[0;34m\u001b[0m\u001b[0m\n\u001b[1;32m     48\u001b[0m \u001b[0;34m\u001b[0m\u001b[0m\n",
            "\u001b[0;32m/usr/local/lib/python3.10/dist-packages/ipykernel/kernelbase.py\u001b[0m in \u001b[0;36mraw_input\u001b[0;34m(self, prompt)\u001b[0m\n\u001b[1;32m    849\u001b[0m                 \u001b[0;34m\"raw_input was called, but this frontend does not support input requests.\"\u001b[0m\u001b[0;34m\u001b[0m\u001b[0;34m\u001b[0m\u001b[0m\n\u001b[1;32m    850\u001b[0m             )\n\u001b[0;32m--> 851\u001b[0;31m         return self._input_request(str(prompt),\n\u001b[0m\u001b[1;32m    852\u001b[0m             \u001b[0mself\u001b[0m\u001b[0;34m.\u001b[0m\u001b[0m_parent_ident\u001b[0m\u001b[0;34m,\u001b[0m\u001b[0;34m\u001b[0m\u001b[0;34m\u001b[0m\u001b[0m\n\u001b[1;32m    853\u001b[0m             \u001b[0mself\u001b[0m\u001b[0;34m.\u001b[0m\u001b[0m_parent_header\u001b[0m\u001b[0;34m,\u001b[0m\u001b[0;34m\u001b[0m\u001b[0;34m\u001b[0m\u001b[0m\n",
            "\u001b[0;32m/usr/local/lib/python3.10/dist-packages/ipykernel/kernelbase.py\u001b[0m in \u001b[0;36m_input_request\u001b[0;34m(self, prompt, ident, parent, password)\u001b[0m\n\u001b[1;32m    893\u001b[0m             \u001b[0;32mexcept\u001b[0m \u001b[0mKeyboardInterrupt\u001b[0m\u001b[0;34m:\u001b[0m\u001b[0;34m\u001b[0m\u001b[0;34m\u001b[0m\u001b[0m\n\u001b[1;32m    894\u001b[0m                 \u001b[0;31m# re-raise KeyboardInterrupt, to truncate traceback\u001b[0m\u001b[0;34m\u001b[0m\u001b[0;34m\u001b[0m\u001b[0m\n\u001b[0;32m--> 895\u001b[0;31m                 \u001b[0;32mraise\u001b[0m \u001b[0mKeyboardInterrupt\u001b[0m\u001b[0;34m(\u001b[0m\u001b[0;34m\"Interrupted by user\"\u001b[0m\u001b[0;34m)\u001b[0m \u001b[0;32mfrom\u001b[0m \u001b[0;32mNone\u001b[0m\u001b[0;34m\u001b[0m\u001b[0;34m\u001b[0m\u001b[0m\n\u001b[0m\u001b[1;32m    896\u001b[0m             \u001b[0;32mexcept\u001b[0m \u001b[0mException\u001b[0m \u001b[0;32mas\u001b[0m \u001b[0me\u001b[0m\u001b[0;34m:\u001b[0m\u001b[0;34m\u001b[0m\u001b[0;34m\u001b[0m\u001b[0m\n\u001b[1;32m    897\u001b[0m                 \u001b[0mself\u001b[0m\u001b[0;34m.\u001b[0m\u001b[0mlog\u001b[0m\u001b[0;34m.\u001b[0m\u001b[0mwarning\u001b[0m\u001b[0;34m(\u001b[0m\u001b[0;34m\"Invalid Message:\"\u001b[0m\u001b[0;34m,\u001b[0m \u001b[0mexc_info\u001b[0m\u001b[0;34m=\u001b[0m\u001b[0;32mTrue\u001b[0m\u001b[0;34m)\u001b[0m\u001b[0;34m\u001b[0m\u001b[0;34m\u001b[0m\u001b[0m\n",
            "\u001b[0;31mKeyboardInterrupt\u001b[0m: Interrupted by user"
          ]
        }
      ]
    }
  ]
}